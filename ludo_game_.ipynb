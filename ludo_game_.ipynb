{
  "nbformat": 4,
  "nbformat_minor": 0,
  "metadata": {
    "colab": {
      "provenance": [],
      "gpuType": "T4",
      "authorship_tag": "ABX9TyN6FlsqjEI/o44i889Xv6DB",
      "include_colab_link": true
    },
    "kernelspec": {
      "name": "python3",
      "display_name": "Python 3"
    },
    "language_info": {
      "name": "python"
    },
    "accelerator": "GPU"
  },
  "cells": [
    {
      "cell_type": "markdown",
      "metadata": {
        "id": "view-in-github",
        "colab_type": "text"
      },
      "source": [
        "<a href=\"https://colab.research.google.com/github/Rachita1851/Ludo-Game/blob/main/ludo_game_.ipynb\" target=\"_parent\"><img src=\"https://colab.research.google.com/assets/colab-badge.svg\" alt=\"Open In Colab\"/></a>"
      ]
    },
    {
      "cell_type": "markdown",
      "source": [],
      "metadata": {
        "id": "XroIpi7b6rPY"
      }
    },
    {
      "cell_type": "code",
      "source": [
        "import random\n",
        "\n",
        "# Initialize player positions\n",
        "player_positions = {\"Player 1\": 0, \"Player 2\": 0}\n",
        "\n",
        "# Define winning position\n",
        "WINNING_POSITION = 50\n",
        "\n",
        "def roll_dice():\n",
        "    return random.randint(1, 6)\n",
        "\n",
        "def move_player(player, steps):\n",
        "    player_positions[player] += steps\n",
        "    if player_positions[player] > WINNING_POSITION:\n",
        "        player_positions[player] = WINNING_POSITION\n",
        "    print(f\"{player} moves to position {player_positions[player]}\")\n",
        "\n",
        "def check_winner():\n",
        "    for player, position in player_positions.items():\n",
        "        if position >= WINNING_POSITION:\n",
        "            return player\n",
        "    return None\n",
        "\n",
        "def ludo_game():\n",
        "    print(\"Welcome to the Ludo Game!\")\n",
        "    print(\"First player to reach position 50 wins!\")\n",
        "    print(\"-\" * 30)\n",
        "\n",
        "    turn = 0\n",
        "    while True:\n",
        "        current_player = \"Player 1\" if turn % 2 == 0 else \"Player 2\"\n",
        "        input(f\"\\n{current_player}'s turn:\")\n",
        "\n",
        "        # Roll the dice\n",
        "        dice_roll = roll_dice()\n",
        "        print(f\"{current_player} rolled a {dice_roll}\")\n",
        "\n",
        "        # Move player\n",
        "        move_player(current_player, dice_roll)\n",
        "\n",
        "        # Check for winner\n",
        "        winner = check_winner()\n",
        "        if winner:\n",
        "            print(f\"\\nCongratulations! {winner} has won the game by reaching position {WINNING_POSITION}!\")\n",
        "            break\n",
        "\n",
        "        # Switch turns\n",
        "        turn += 1\n",
        "\n",
        "# Run the Ludo game\n",
        "ludo_game()\n"
      ],
      "metadata": {
        "colab": {
          "base_uri": "https://localhost:8080/"
        },
        "id": "FZKa7oPL73t4",
        "outputId": "c1394c47-f680-45cc-a0ae-8fdb59c6c955"
      },
      "execution_count": null,
      "outputs": [
        {
          "output_type": "stream",
          "name": "stdout",
          "text": [
            "Welcome to the Ludo Game!\n",
            "First player to reach position 50 wins!\n",
            "------------------------------\n",
            "\n",
            "Player 1's turn:\n",
            "Player 1 rolled a 1\n",
            "Player 1 moves to position 1\n",
            "\n",
            "Player 2's turn:\n",
            "Player 2 rolled a 2\n",
            "Player 2 moves to position 2\n",
            "\n",
            "Player 1's turn:\n",
            "Player 1 rolled a 5\n",
            "Player 1 moves to position 6\n",
            "\n",
            "Player 2's turn:\n",
            "Player 2 rolled a 6\n",
            "Player 2 moves to position 8\n"
          ]
        }
      ]
    }
  ]
}